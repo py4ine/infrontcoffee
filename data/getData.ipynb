{
 "cells": [
  {
   "cell_type": "code",
   "execution_count": 1,
   "metadata": {},
   "outputs": [],
   "source": [
    "from selenium import webdriver\n",
    "from selenium.webdriver.common.by import By  # HTML요소 찾기 위한 모듈\n",
    "from selenium.webdriver.common.keys import Keys  # 키보드 입력 제어\n",
    "from selenium.webdriver.chrome.service import Service  # Chrome드라이버 실행을 위한 서비스 모듈\n",
    "# from webdriver_manager.chrome import CharomeDriverManager  # Chrome 드라이버 자동 설치\n",
    "\n",
    "import time\n",
    "import tqdm\n",
    "import pandas as pd\n",
    "\n",
    "# 크롬 드라이버 설정\n",
    "options = webdriver.ChromeOptions()\n",
    "# options.add_argument(\"--headless\")  # 브라우저 창 없이 실행 (백그라운드)\n",
    "options.add_argument(\"--no-sandbox\")  # 리눅스 환경에서 필요\n",
    "options.add_argument(\"--disable-dev-shm-usage\")  # 메모리 사용 최소화"
   ]
  },
  {
   "cell_type": "code",
   "execution_count": null,
   "metadata": {},
   "outputs": [],
   "source": [
    "# 크롬 드라이버 실행\n",
    "# service = Service(ChromeDriverManager().install())\n",
    "driver = webdriver.Chrome(options=options)\n",
    "\n",
    "# 요소탐색 기다림 시간 설정\n",
    "driver.implicitly_wait(5)  # 5초 설정\n",
    "\n",
    "# 카카오맵 검색 url 설정\n",
    "url = 'https://map.kakao.com'\n",
    "driver.get(url)\n",
    "print(driver.title)  # 현재 페이지 출력\n",
    "\n",
    "# 브라우저에서 검색창 찾기 및 검색어 입력\n",
    "search_box = driver.find_element(By.ID, 'search.keyword.query')  # 검색창 요소 찾기\n",
    "search_box.send_keys(\"카페\")  # 검색어 입력\n",
    "search_box.send_keys(Keys.RETURN)  # 엔터키 입력\n",
    "print(driver.title, \"카페 검색\")  # 현재 페이지 출력\n",
    "\n",
    "# 팝업 재거\n",
    "time.sleep(1)\n",
    "driver.execute_script('document.elementFromPoint(10, 10).click();')\n",
    "\n",
    "# 장소 카테고리 버튼 클릭\n",
    "place_btn = driver.find_element(By.CSS_SELECTOR, \".mainHeader > ul.sub > li.option1 > a\") \n",
    "place_btn.click()  # 장소 버튼 클릭\n",
    "print(driver.title, \"장소 버튼 클릭\")  # 현재 페이지 출력\n",
    "\n",
    "time.sleep(3)"
   ]
  },
  {
   "cell_type": "code",
   "execution_count": null,
   "metadata": {},
   "outputs": [],
   "source": [
    "# 데이터 저장\n",
    "cafe_kakaoMaplist = []\n",
    "\n",
    "set_page = 0\n",
    "for page in range(50):\n",
    "\n",
    "    print(\"페이지:\", page)\n",
    "    click_page = page - set_page\n",
    "\n",
    "    # 검색 결과 리스트 가져오기\n",
    "    cafes = driver.find_elements(By.CSS_SELECTOR, '.placelist > .PlaceItem')  # 각 카페 정보가 담긴 요소 찾기\n",
    "\n",
    "    for cafe in cafes:\n",
    "\n",
    "        try:\n",
    "            name = cafe.find_element(By.CSS_SELECTOR, 'strong.tit_name > .link_name').text  # 카페 이름\n",
    "            addr_load = cafe.find_element(By.CSS_SELECTOR, '[data-id = \"address\"]').text  # 카페 도로명 주소\n",
    "            addr_lot = cafe.find_element(By.CSS_SELECTOR, '[data-id = \"otherAddr\"]').text  # 카페 지번 주소\n",
    "\n",
    "            try:\n",
    "                rating_score = cafe.find_element(By.CSS_SELECTOR, 'em[data-id = \"scoreNum\"]').text  # 카페 평점\n",
    "                rating_num = cafe.find_element(By.CSS_SELECTOR, 'a[data-id = \"numberofscore\"]').text  # 카페 평가수\n",
    "            except:\n",
    "                rating_score = \"No Rating\"\n",
    "                rating_num = 0\n",
    "            \n",
    "            cafe_kakaoMaplist.append([name, addr_load, addr_lot, rating_score, rating_num])\n",
    "\n",
    "        except Exception as e:\n",
    "            print(\"Error:\", e)  # 오류 발생시 Error메세지 출력\n",
    "\n",
    "    print(f\"{page+1} 페이지 저장 완료\")\n",
    "\n",
    "    # 다음 페이지 버튼 클릭\n",
    "    try:\n",
    "        page_btn = driver.find_element(By.XPATH, f'//*[@id=\"info.search.page.no{click_page+2}\"]')\n",
    "        page_btn.click()  # 다음 페이지 버튼 클릭\n",
    "        print(f\"{page+2} 페이지 이동\")\n",
    "        print(f\"클릭한 xpaht 숫자: {click_page+2}\")\n",
    "\n",
    "        time.sleep(1)\n",
    "        \n",
    "    except:\n",
    "        try:\n",
    "            print(\"> 버튼클릭 시도\")\n",
    "            set_page += 5\n",
    "            next_btn = driver.find_element(By.XPATH, '//*[@id=\"info.search.page.next\"]')\n",
    "            next_btn.click()  # > 버튼 클릭\n",
    "            print(\"> 버튼 클릭\")\n",
    "\n",
    "            time.sleep(1)\n",
    "\n",
    "        except:    \n",
    "            print(\"마지막 페이지\")\n",
    "            break\n",
    "\n",
    "driver.quit()  # 크롬 드라이버 종료"
   ]
  },
  {
   "cell_type": "code",
   "execution_count": null,
   "metadata": {},
   "outputs": [],
   "source": [
    "# 데이터프레임 생성 및 \n",
    "df_cafe = pd.DataFrame(cafe_kakaoMaplist, columns=['name', 'addr_load', 'addr_lot', 'rating_score', 'rating_num'])\n",
    "\n",
    "# csv파일 저장\n",
    "df_cafe.to_csv(\"cafe_kakaoMaplist.csv\", index=False, encoding='utf-8-sig')"
   ]
  },
  {
   "cell_type": "code",
   "execution_count": null,
   "metadata": {},
   "outputs": [],
   "source": [
    "# 카카오맵 내저장 장소\n",
    "# 데이터 저장\n",
    "cafe_kakaoMap_mylist = []\n",
    "\n",
    "set_page = 0\n",
    "for page in range(1):\n",
    "\n",
    "    print(\"페이지:\", page)\n",
    "    click_page = page - set_page\n",
    "\n",
    "    # 검색 결과 리스트 가져오기\n",
    "    cafes = driver.find_elements(By.CSS_SELECTOR, '.list_detail > .FavoriteDetailItem')  # 각 카페 정보가 담긴 요소 찾기\n",
    "\n",
    "    for cafe in cafes:\n",
    "\n",
    "        try:\n",
    "            name = cafe.find_element(By.CSS_SELECTOR, '.info_directory > .directory_info > .tit_directory > .txt_directory > .link_txt').text  # 카페 이름\n",
    "            addr_load = cafe.find_element(By.CSS_SELECTOR, '.info_directory > .directory_info > .desc_directory > .desc_region').text  # 카페 도로명 주소\n",
    "            # addr_lot = cafe.find_element(By.CSS_SELECTOR, '[data-id = \"otherAddr\"]').text  # 카페 지번 주소\n",
    "\n",
    "            try:\n",
    "                rating_score = cafe.find_element(By.CSS_SELECTOR, 'em[data-id = \"scoreNum\"]').text  # 카페 평점\n",
    "                rating_num = cafe.find_element(By.CSS_SELECTOR, 'a[data-id = \"numberofscore\"]').text  # 카페 평가수\n",
    "            except:\n",
    "                rating_score = \"No Rating\"\n",
    "                rating_num = 0\n",
    "            \n",
    "            cafe_kakaoMap_mylist.append([name, addr_load, rating_score, rating_num])\n",
    "\n",
    "        except Exception as e:\n",
    "            print(\"Error:\", e)  # 오류 발생시 Error메세지 출력\n",
    "\n",
    "    print(f\"{page+1} 페이지 저장 완료\")\n",
    "\n",
    "    # 다음 페이지 버튼 클릭\n",
    "    try:\n",
    "        page_btn = driver.find_element(By.XPATH, f'//*[@id=\"info.my.favorite.page.no{click_page+2}\"]')\n",
    "        page_btn.click()  # 다음 페이지 버튼 클릭\n",
    "        print(f\"{page+2} 페이지 이동\")\n",
    "        print(f\"클릭한 xpaht 숫자: {click_page+2}\")\n",
    "\n",
    "        time.sleep(1)\n",
    "        \n",
    "    except:\n",
    "        try:\n",
    "            print(\"> 버튼클릭 시도\")\n",
    "            set_page += 5\n",
    "            next_btn = driver.find_element(By.XPATH, '//*[@id=\"info.search.page.next\"]')\n",
    "            next_btn.click()  # > 버튼 클릭\n",
    "            print(\"> 버튼 클릭\")\n",
    "\n",
    "            time.sleep(1)\n",
    "\n",
    "        except:    \n",
    "            print(\"마지막 페이지\")\n",
    "            break\n",
    "\n",
    "# driver.quit()  # 크롬 드라이버 종료"
   ]
  },
  {
   "cell_type": "code",
   "execution_count": 20,
   "metadata": {},
   "outputs": [],
   "source": [
    "# 데이터프레임 생성 및 \n",
    "df_mycafe = pd.DataFrame(cafe_kakaoMap_mylist, columns=['name', 'addr_load', 'rating_score', 'rating_num'])\n",
    "\n",
    "# csv파일 저장\n",
    "df_mycafe.to_csv(\"cafe_kakaoMap_mylist.csv\", index=False, encoding='utf-8-sig')"
   ]
  },
  {
   "cell_type": "code",
   "execution_count": null,
   "metadata": {},
   "outputs": [],
   "source": [
    "df"
   ]
  },
  {
   "cell_type": "code",
   "execution_count": 42,
   "metadata": {},
   "outputs": [],
   "source": [
    "df_mycafe = pd.read_csv('cafe_kakaoMap_mylist.csv')\n",
    "df_cafe = pd.read_csv('cafe_kakaoMap.csv')"
   ]
  },
  {
   "cell_type": "code",
   "execution_count": 43,
   "metadata": {},
   "outputs": [],
   "source": [
    "df_mycafe[\"note\"] = \"editorPick\""
   ]
  },
  {
   "cell_type": "code",
   "execution_count": null,
   "metadata": {},
   "outputs": [],
   "source": [
    "df_mycafe"
   ]
  },
  {
   "cell_type": "code",
   "execution_count": null,
   "metadata": {},
   "outputs": [],
   "source": [
    "# 병합 데이터프레임 생성\n",
    "df = df_cafe.merge(df_mycafe[['name', 'addr_load', 'note']], on='name', how='outer', suffixes=('_cafe', '_myCafe'))\n",
    "\n",
    "# 병합 컬럼 생성\n",
    "df['addr_load'] = df['addr_load_cafe'].fillna(df['addr_load_myCafe'])\n",
    "df.drop(columns=['addr_load_cafe', 'addr_load_myCafe'], inplace=True)"
   ]
  },
  {
   "cell_type": "code",
   "execution_count": 49,
   "metadata": {},
   "outputs": [],
   "source": [
    "# csv파일 저장\n",
    "df.to_csv(\"cafe_kakaoMap_addMyList.csv\", index=False, encoding='utf-8-sig')"
   ]
  },
  {
   "cell_type": "code",
   "execution_count": null,
   "metadata": {},
   "outputs": [],
   "source": []
  }
 ],
 "metadata": {
  "kernelspec": {
   "display_name": "projectLBS",
   "language": "python",
   "name": "python3"
  },
  "language_info": {
   "codemirror_mode": {
    "name": "ipython",
    "version": 3
   },
   "file_extension": ".py",
   "mimetype": "text/x-python",
   "name": "python",
   "nbconvert_exporter": "python",
   "pygments_lexer": "ipython3",
   "version": "3.9.21"
  }
 },
 "nbformat": 4,
 "nbformat_minor": 2
}
